{
 "cells": [
  {
   "cell_type": "code",
   "execution_count": 20,
   "metadata": {},
   "outputs": [],
   "source": [
    "#saving path to repository and importing libraries\n",
    "repo_path = \"./titanic\""
   ]
  },
  {
   "cell_type": "code",
   "execution_count": 21,
   "metadata": {},
   "outputs": [],
   "source": [
    "import numpy as np\n",
    "import pandas as pd\n",
    "import matplotlib.pyplot as mtpl"
   ]
  },
  {
   "cell_type": "code",
   "execution_count": 22,
   "metadata": {},
   "outputs": [],
   "source": [
    "#loading training data\n",
    "train_data_path = \"{}/train/train.tsv\".format(repo_path)\n",
    "train_data = pd.read_csv(train_data_path, header=0,delimiter='\\t')\n"
   ]
  },
  {
   "cell_type": "code",
   "execution_count": 23,
   "metadata": {},
   "outputs": [],
   "source": [
    "#prediction of surviving is gonna be based on passenger's sex and class\n",
    "X_columns = ['Sex','Pclass']\n",
    "y_column = ['Survived']\n"
   ]
  },
  {
   "cell_type": "code",
   "execution_count": 24,
   "metadata": {},
   "outputs": [],
   "source": [
    "#maping string values to numbers\n",
    "replace_dict = {'male': 0, 'female' : 1} \n",
    "\n",
    "train_data['Sex']=train_data['Sex'].map(replace_dict)\n",
    "\n"
   ]
  },
  {
   "cell_type": "code",
   "execution_count": 25,
   "metadata": {},
   "outputs": [],
   "source": [
    "X = train_data[X_columns].values\n",
    "y = train_data[y_column].values.flatten()\n"
   ]
  },
  {
   "cell_type": "code",
   "execution_count": 26,
   "metadata": {},
   "outputs": [],
   "source": [
    "#using KNeighborsClassifier from sklearn as a model\n",
    "from sklearn.neighbors import KNeighborsClassifier"
   ]
  },
  {
   "cell_type": "code",
   "execution_count": 27,
   "metadata": {},
   "outputs": [],
   "source": [
    "model = KNeighborsClassifier(n_neighbors=2)"
   ]
  },
  {
   "cell_type": "code",
   "execution_count": 28,
   "metadata": {},
   "outputs": [
    {
     "data": {
      "text/plain": [
       "KNeighborsClassifier(algorithm='auto', leaf_size=30, metric='minkowski',\n",
       "           metric_params=None, n_jobs=1, n_neighbors=2, p=2,\n",
       "           weights='uniform')"
      ]
     },
     "execution_count": 28,
     "metadata": {},
     "output_type": "execute_result"
    }
   ],
   "source": [
    "#training the model\n",
    "X = train_data[X_columns]\n",
    "y = train_data['Survived']\n",
    "\n",
    "model.fit(X,y)"
   ]
  },
  {
   "cell_type": "code",
   "execution_count": 29,
   "metadata": {},
   "outputs": [],
   "source": [
    "#loading, preparing and saving valid and test data\n",
    "valid_data_X = pd.read_csv(\"{}/dev-0/in.tsv\".format(repo_path),\n",
    "                           delimiter='\\t',\n",
    "                           names=train_data.columns[1:])\n",
    "\n",
    "valid_data_y = pd.read_csv(\"{}/dev-0/expected.tsv\".format(repo_path),\n",
    "                           delimiter='\\t',\n",
    "                           names=train_data.columns[:1])"
   ]
  },
  {
   "cell_type": "code",
   "execution_count": 30,
   "metadata": {},
   "outputs": [],
   "source": [
    "test_data_X = pd.read_csv(\"{}/test-A/in.tsv\".format(repo_path),\n",
    "                           delimiter='\\t',\n",
    "                           names=train_data.columns[1:])"
   ]
  },
  {
   "cell_type": "code",
   "execution_count": 31,
   "metadata": {},
   "outputs": [],
   "source": [
    "\n",
    "replace_dict = {'male': 0, 'female' : 1} \n",
    "\n",
    "valid_data_X['Sex']=valid_data_X['Sex'].map(replace_dict)\n",
    "\n",
    "\n",
    "test_data_X['Sex']=test_data_X['Sex'].map(replace_dict)\n",
    "\n"
   ]
  },
  {
   "cell_type": "code",
   "execution_count": 32,
   "metadata": {},
   "outputs": [],
   "source": [
    "X_valid = valid_data_X[X_columns].values\n",
    "y_valid = valid_data_y[y_column].values\n",
    "X_test = test_data_X[X_columns].values"
   ]
  },
  {
   "cell_type": "code",
   "execution_count": 33,
   "metadata": {},
   "outputs": [],
   "source": [
    "#using trained model for valid data\n",
    "valid_predicted = model.predict(X_valid)"
   ]
  },
  {
   "cell_type": "code",
   "execution_count": 34,
   "metadata": {},
   "outputs": [
    {
     "name": "stdout",
     "output_type": "stream",
     "text": [
      "0.7611940298507462\n"
     ]
    }
   ],
   "source": [
    "#counting valid results' accuracy\n",
    "from sklearn.metrics import accuracy_score\n",
    "\n",
    "print(accuracy_score(y_valid, valid_predicted))"
   ]
  },
  {
   "cell_type": "code",
   "execution_count": 35,
   "metadata": {},
   "outputs": [
    {
     "name": "stdout",
     "output_type": "stream",
     "text": [
      "k with the highest result is:  19\n"
     ]
    }
   ],
   "source": [
    "#finding k with the highest accuracy for valid data\n",
    "from sklearn.model_selection import cross_val_score\n",
    "\n",
    "neighbours = []\n",
    "cv_scores=[]\n",
    "for i in range(1,100):\n",
    "    neighbours.append(i)\n",
    "for item in neighbours:\n",
    "    knn = KNeighborsClassifier(n_neighbors=item)\n",
    "    scores = cross_val_score(knn, X, y, cv=10, scoring='accuracy')\n",
    "    cv_scores.append(scores.mean())\n",
    "\n",
    "max = 0\n",
    "maxi=0\n",
    "for i in range(0,len(cv_scores)):\n",
    "    if cv_scores[i]>max:\n",
    "        max = cv_scores[i]\n",
    "        maxi=i\n",
    "\n",
    "print(\"k with the highest result is: \", neighbours[maxi])"
   ]
  },
  {
   "cell_type": "code",
   "execution_count": 36,
   "metadata": {},
   "outputs": [],
   "source": [
    "#using trained model for test data\n",
    "test_predicted = model.predict(X_test)"
   ]
  },
  {
   "cell_type": "code",
   "execution_count": 37,
   "metadata": {},
   "outputs": [],
   "source": [
    "#saving results in new files\n",
    "pd.Series(valid_predicted.flatten()).to_csv(\"{}/dev-0/out.tsv\".format(repo_path),\n",
    "                                            sep='\\t',\n",
    "                                            index=None)\n",
    "\n",
    "pd.Series(test_predicted.flatten()).to_csv(\"{}/test-A/out.tsv\".format(repo_path),\n",
    "                                           sep='\\t',\n",
    "                                           index=None)"
   ]
  }
 ],
 "metadata": {
  "kernelspec": {
   "display_name": "Python 3",
   "language": "python",
   "name": "python3"
  },
  "language_info": {
   "codemirror_mode": {
    "name": "ipython",
    "version": 3
   },
   "file_extension": ".py",
   "mimetype": "text/x-python",
   "name": "python",
   "nbconvert_exporter": "python",
   "pygments_lexer": "ipython3",
   "version": "3.6.4"
  }
 },
 "nbformat": 4,
 "nbformat_minor": 2
}
